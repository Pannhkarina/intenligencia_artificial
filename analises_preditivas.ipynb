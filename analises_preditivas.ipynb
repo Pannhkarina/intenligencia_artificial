{
 "cells": [
  {
   "cell_type": "code",
   "execution_count": null,
   "metadata": {},
   "outputs": [],
   "source": [
    "# Instalando bibliotecas\n",
    "# pip install yfinance / pip install prophet\n",
    "\n",
    "import yfinance as yf\n",
    "from prophet import Prophet\n",
    "from prophet.plot import plot_plotly\n",
    "\n",
    "# Carregando os dados históriocos\n",
    "\n",
    "ticker = input(\"Digite o código da ação desejada: \")\n",
    "dados = yf.Ticker(ticker).history(\"2y\")\n",
    "\n"
   ]
  },
  {
   "cell_type": "code",
   "execution_count": null,
   "metadata": {},
   "outputs": [],
   "source": [
    "# Gráfico de variação de periodo \n",
    "dados.Close.plot()"
   ]
  },
  {
   "cell_type": "code",
   "execution_count": 12,
   "metadata": {},
   "outputs": [],
   "source": [
    "# Preparando os dados de treinamento\n",
    "\n",
    "# Reset do indece do DataFrame\n",
    "treinamento = dados.reset_index()\n",
    "\n",
    "\n"
   ]
  },
  {
   "cell_type": "code",
   "execution_count": 13,
   "metadata": {},
   "outputs": [],
   "source": [
    "# retirando o timezone (fuso horário) da coluna de data\n",
    "treinamento[\"Date\"] = treinamento[\"Date\"].dt.tz_localize(None)"
   ]
  },
  {
   "cell_type": "code",
   "execution_count": 14,
   "metadata": {},
   "outputs": [],
   "source": [
    "# selecionando as colunas de data e valor de fechamento\n",
    "treinamento = treinamento[['Date', 'Close']]\n"
   ]
  },
  {
   "cell_type": "code",
   "execution_count": 15,
   "metadata": {},
   "outputs": [],
   "source": [
    "# renomeando as colunas (o Prophet precisa receber os dados com esse padrão)\n",
    "treinamento.columns = ['ds', 'y']"
   ]
  },
  {
   "cell_type": "code",
   "execution_count": 17,
   "metadata": {},
   "outputs": [
    {
     "name": "stderr",
     "output_type": "stream",
     "text": [
      "19:51:51 - cmdstanpy - INFO - Chain [1] start processing\n",
      "19:51:51 - cmdstanpy - INFO - Chain [1] done processing\n"
     ]
    }
   ],
   "source": [
    "# Treinando modelo\n",
    "# Criando modelo\n",
    "modelo = Prophet()\n",
    "\n",
    "# Treinando modelo com os dados de treinamento\n",
    "modelo.fit(treinamento)\n",
    "\n",
    "# Especificando o periodo das previsões (Em dias)\n",
    "periodo = modelo.make_future_dataframe(periods=90)\n",
    "\n",
    "# Gerando as previsões\n",
    "previsoes = modelo.predict(periodo)\n"
   ]
  },
  {
   "cell_type": "code",
   "execution_count": 20,
   "metadata": {},
   "outputs": [
    {
     "ename": "NameError",
     "evalue": "name 'go' is not defined",
     "output_type": "error",
     "traceback": [
      "\u001b[1;31m---------------------------------------------------------------------------\u001b[0m",
      "\u001b[1;31mNameError\u001b[0m                                 Traceback (most recent call last)",
      "Cell \u001b[1;32mIn[20], line 3\u001b[0m\n\u001b[0;32m      1\u001b[0m \u001b[39m# Gerando gráficos com as previsões\u001b[39;00m\n\u001b[1;32m----> 3\u001b[0m plot_plotly(modelo, previsoes, xlabel \u001b[39m=\u001b[39;49m \u001b[39m\"\u001b[39;49m\u001b[39mperíodo\u001b[39;49m\u001b[39m\"\u001b[39;49m, ylabel\u001b[39m=\u001b[39;49m\u001b[39m\"\u001b[39;49m\u001b[39mvalor\u001b[39;49m\u001b[39m\"\u001b[39;49m)\n",
      "File \u001b[1;32m~\\AppData\\Local\\Packages\\PythonSoftwareFoundation.Python.3.10_qbz5n2kfra8p0\\LocalCache\\local-packages\\Python310\\site-packages\\prophet\\plot.py:595\u001b[0m, in \u001b[0;36mplot_plotly\u001b[1;34m(m, fcst, uncertainty, plot_cap, trend, changepoints, changepoints_threshold, xlabel, ylabel, figsize)\u001b[0m\n\u001b[0;32m    593\u001b[0m data \u001b[39m=\u001b[39m []\n\u001b[0;32m    594\u001b[0m \u001b[39m# Add actual\u001b[39;00m\n\u001b[1;32m--> 595\u001b[0m data\u001b[39m.\u001b[39mappend(go\u001b[39m.\u001b[39mScatter(\n\u001b[0;32m    596\u001b[0m     name\u001b[39m=\u001b[39m\u001b[39m'\u001b[39m\u001b[39mActual\u001b[39m\u001b[39m'\u001b[39m,\n\u001b[0;32m    597\u001b[0m     x\u001b[39m=\u001b[39mm\u001b[39m.\u001b[39mhistory[\u001b[39m'\u001b[39m\u001b[39mds\u001b[39m\u001b[39m'\u001b[39m],\n\u001b[0;32m    598\u001b[0m     y\u001b[39m=\u001b[39mm\u001b[39m.\u001b[39mhistory[\u001b[39m'\u001b[39m\u001b[39my\u001b[39m\u001b[39m'\u001b[39m],\n\u001b[0;32m    599\u001b[0m     marker\u001b[39m=\u001b[39m\u001b[39mdict\u001b[39m(color\u001b[39m=\u001b[39mactual_color, size\u001b[39m=\u001b[39mmarker_size),\n\u001b[0;32m    600\u001b[0m     mode\u001b[39m=\u001b[39m\u001b[39m'\u001b[39m\u001b[39mmarkers\u001b[39m\u001b[39m'\u001b[39m\n\u001b[0;32m    601\u001b[0m ))\n\u001b[0;32m    602\u001b[0m \u001b[39m# Add lower bound\u001b[39;00m\n\u001b[0;32m    603\u001b[0m \u001b[39mif\u001b[39;00m uncertainty \u001b[39mand\u001b[39;00m m\u001b[39m.\u001b[39muncertainty_samples:\n",
      "\u001b[1;31mNameError\u001b[0m: name 'go' is not defined"
     ]
    }
   ],
   "source": [
    "# Gerando gráficos com as previsões\n",
    "\n",
    "plot_plotly(modelo, previsoes, xlabel = \"período\", ylabel=\"valor\")\n"
   ]
  }
 ],
 "metadata": {
  "kernelspec": {
   "display_name": "Python 3",
   "language": "python",
   "name": "python3"
  },
  "language_info": {
   "codemirror_mode": {
    "name": "ipython",
    "version": 3
   },
   "file_extension": ".py",
   "mimetype": "text/x-python",
   "name": "python",
   "nbconvert_exporter": "python",
   "pygments_lexer": "ipython3",
   "version": "3.10.9"
  },
  "orig_nbformat": 4,
  "vscode": {
   "interpreter": {
    "hash": "9acfcb64550fa7f774be8bebd7b913d949fb31d88c525492e7a331ec4a6bcdcc"
   }
  }
 },
 "nbformat": 4,
 "nbformat_minor": 2
}
